{
 "cells": [
  {
   "cell_type": "code",
   "execution_count": null,
   "id": "d5404abe-9f89-4615-83b2-8ccfe93be1f7",
   "metadata": {},
   "outputs": [],
   "source": [
    "import plotly.express as px\n",
    "import pandas as pd\n",
    "import panel as pn\n",
    "pn.extension('plotly', 'mathjax', sizing_mode=\"stretch_width\")\n",
    "\n",
    "px.set_mapbox_access_token(\"pk.eyJ1IjoiYXpvbG90aW4iLCJhIjoiY2xsdXpkY3hhMW5wNTNkcWlmenpkZ2Q1cCJ9.ITxYXNFB7_lnuNetDquy6w\")\n",
    "\n",
    "df = pd.read_csv(\"https://raw.githubusercontent.com/nitoloz/jupyter-notebooks/main/frankfurt-10k-trees/output_file.csv\")\n",
    "\n",
    "df['Common Name'] = df['Common Name'].replace(\n",
    "    'Hybrid (for hybrids without a distinct common name)',\n",
    "    'Hybrid'\n",
    ")\n",
    "\n",
    "# Replace 'output_file.csv' with the desired output file name\n",
    "output_file = 'output_file.csv'\n",
    "\n",
    "# Write the updated DataFrame back to a CSV file\n",
    "df.to_csv(output_file, index=False)\n",
    "\n",
    "df = df[df['PFLANZJAHR'] >= 1850]\n",
    "min_value = df['PFLANZJAHR'].min()\n",
    "max_value = df['PFLANZJAHR'].max()"
   ]
  },
  {
   "cell_type": "code",
   "execution_count": null,
   "id": "f1acdd9c-5678-4b6b-a99f-4c922cd2a83f",
   "metadata": {},
   "outputs": [],
   "source": [
    "mapbox = px.scatter_mapbox(df, lat=\"Latitude\", lon=\"Longitude\", size=\"KR_DURCHM\",color=\"PFLANZJAHR\", color_continuous_scale=\"Greens\", range_color=(min_value, max_value), size_max=15, zoom=11, hover_data=[\"Common Name\", \"PFLANZJAHR\", \"KR_DURCHM\", \"BAUMHOEHE\",\"STRASSE\" ])\n",
    "mapbox.update_traces(hovertemplate=\"<b>Name:</b> %{customdata[0]}<br><b>Year of planting:</b> %{customdata[1]}<br><b>Height and crown diameter</b> %{customdata[3]}m, %{customdata[2]}m<br><b>Address</b> %{customdata[4]}\")\n",
    "\n",
    "mapbox.update_layout(height=900)\n",
    "mapbox"
   ]
  },
  {
   "cell_type": "code",
   "execution_count": null,
   "id": "6d4b4c84-ef94-4ade-8c87-76e628c88365",
   "metadata": {},
   "outputs": [],
   "source": [
    "\n",
    "def update_chart(values):\n",
    "    fig = px.scatter_mapbox(df.loc[(df['PFLANZJAHR'] > values[0]) & (df['PFLANZJAHR'] < values[1])], lat=\"Latitude\", lon=\"Longitude\", size=\"KR_DURCHM\",color=\"PFLANZJAHR\", color_continuous_scale=\"Greens\", range_color=(min_value, max_value), size_max=15, zoom=10)\n",
    "    fig = px.scatter_mapbox(df, lat=\"Latitude\", lon=\"Longitude\", size=\"KR_DURCHM\",color=\"PFLANZJAHR\", color_continuous_scale=\"Greens\", range_color=(min_value, max_value), size_max=15, zoom=10)\n",
    "    fig.update_layout(height=500)\n",
    "    return fig;\n",
    "\n",
    "# districts_area = pn.Column(int_range_slider, pn.bind(update_chart, int_range_slider))\n",
    "# districts_area\n"
   ]
  },
  {
   "cell_type": "code",
   "execution_count": null,
   "id": "fa143c7a-3cc8-476a-97f6-46b3505cb7ec",
   "metadata": {},
   "outputs": [],
   "source": [
    "import plotly.graph_objects as go\n",
    "\n",
    "year_counts = df['PFLANZJAHR'].value_counts().sort_index()\n",
    "years_figure = go.Figure(data=go.Bar(x=year_counts.index, y=year_counts.values))\n",
    "\n",
    "# Set the chart title and axis labels\n",
    "years_figure.update_layout(title='Count of trees planted by Year',\n",
    "                  xaxis_title='Year',\n",
    "                  yaxis_title='Count of trees')\n",
    "years_figure.update_layout(height=340)\n",
    "\n",
    "years_figure.show()"
   ]
  },
  {
   "cell_type": "code",
   "execution_count": null,
   "id": "7c7f8bb8-33ce-433e-b1a5-0e9c6305242b",
   "metadata": {
    "tags": []
   },
   "outputs": [],
   "source": [
    "# Count the occurrences of each unique value in the 'GATTUNG' column\n",
    "gattung_counts = df['Common Name'].value_counts().reset_index()\n",
    "gattung_counts.columns = ['Common Name', 'Count']\n",
    "\n",
    "# Create a bar chart using Plotly Express\n",
    "species_figure = px.bar(gattung_counts, x='Common Name', y='Count', title='Total count of planted trees by species')\n",
    "species_figure.update_xaxes(title='Species', tickangle=45)\n",
    "species_figure.update_yaxes(title='Count')\n",
    "species_figure.update_layout(height=340)\n",
    "# Show the plot\n",
    "species_figure.show()\n"
   ]
  },
  {
   "cell_type": "code",
   "execution_count": null,
   "id": "e70ecc66-c973-412e-bb76-f567a003388a",
   "metadata": {},
   "outputs": [],
   "source": [
    "markdown = pn.pane.Markdown(\"\"\"\n",
    "# Frankfurt: A Green Metropolis\n",
    "\n",
    "Frankfurt is to receive **10,000 new trees**, on streets, in squares, in green spaces - by 2030 [^1^].\n",
    "\n",
    "It's undoubtedly a positive step that Frankfurt is set to welcome 10,000 new trees across its streets, squares, and green spaces by 2030, with an additional commitment to create three mini forests within the next two years. \n",
    "The proposed initiative, supported by the coalition of the Greens, SPD, FDP, and Volt, as well as the agreement from the CDU, demonstrates a collaborative effort towards environmental sustainability. \n",
    "\n",
    "However, amidst the celebration, it's crucial to consider the context provided by the Climate Decision Initiative members who point out that the 10,000 trees merely offset the losses incurred in the last five years. \n",
    "\n",
    "Although I wholeheartedly support this remarkable initiative, the article omits certain data. Presently, there are approximately 170,000 live trees in Frankfurt, all meticulously recorded in a tree cadastre. \n",
    "Analysis of this registry reveals that, over the past decade, nearly 1,000 trees have been planted annually. Notably, in the most robust years, the city witnessed the planting of up to 10,000 trees within a single year—examples include 9,447 trees in 1990, 11,867 in 1980, and 8,709 in 1970.\n",
    "\n",
    "So keep it up, City of Frankfurt! Let's make our city greener together!\n",
    "[^1^]: [10 000 Bäume für Frankfurt](https://www.fr.de/frankfurt/10-000-baeume-fuer-frankfurt-92325004.html)\n",
    "\"\"\")\n",
    "markdown"
   ]
  },
  {
   "cell_type": "code",
   "execution_count": null,
   "id": "d5757cfa-4822-4a0c-b399-6c3e8887d9ec",
   "metadata": {},
   "outputs": [],
   "source": [
    "\n",
    "template = pn.template.FastGridTemplate(\n",
    "    site=\"Green Frankfurt\", \n",
    "    title=\"Home of 170 000 trees\", \n",
    "    prevent_collision=True, \n",
    "    cols={'lg': 12, 'md': 6, 'sm': 6, 'xs': 4, 'xxs': 2}, \n",
    "    row_height=180,\n",
    "    header_background=\"#fff\",\n",
    "    header_color=\"#000\",\n",
    ")\n",
    "template.main[0:2,0:6]=markdown\n",
    "template.main[2:4,0:6]=years_figure\n",
    "template.main[4:6,0:6]=species_figure\n",
    "\n",
    "template.main[0:6,6:12]=mapbox\n",
    "#template.main[3:6,6:]=heatmap\n",
    "#template.main[6:9,0:12]=district_result\n",
    "template.servable()"
   ]
  }
 ],
 "metadata": {
  "kernelspec": {
   "display_name": "anaconda-panel-2023.05-py310",
   "language": "python",
   "name": "conda-env-anaconda-panel-2023.05-py310-py"
  },
  "language_info": {
   "codemirror_mode": {
    "name": "ipython",
    "version": 3
   },
   "file_extension": ".py",
   "mimetype": "text/x-python",
   "name": "python",
   "nbconvert_exporter": "python",
   "pygments_lexer": "ipython3",
   "version": "3.11.5"
  }
 },
 "nbformat": 4,
 "nbformat_minor": 5
}
